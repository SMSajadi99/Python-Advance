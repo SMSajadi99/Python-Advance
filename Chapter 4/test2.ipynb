{
  "nbformat": 4,
  "nbformat_minor": 2,
  "metadata": {
    "colab": {
      "name": "Welcome To Colaboratory",
      "provenance": [],
      "collapsed_sections": []
    },
    "kernelspec": {
      "name": "python3",
      "display_name": "Python 3.9.5 64-bit"
    },
    "language_info": {
      "name": "python",
      "version": "3.9.5",
      "mimetype": "text/x-python",
      "codemirror_mode": {
        "name": "ipython",
        "version": 3
      },
      "pygments_lexer": "ipython3",
      "nbconvert_exporter": "python",
      "file_extension": ".py"
    },
    "interpreter": {
      "hash": "ac59ebe37160ed0dfa835113d9b8498d9f09ceb179beaac4002f036b9467c963"
    }
  },
  "cells": [
    {
      "cell_type": "code",
      "execution_count": 19,
      "source": [
        "from bs4 import BeautifulSoup\r\n",
        "import requests\r\n",
        "\r\n",
        "r = requests.get('https://bama.ir/car/all-brands/all-models/all-trims?price=30-40&page=1')\r\n",
        "\r\n",
        "soup = BeautifulSoup(r.text,'html.parser')\r\n",
        "# val = soup.find_all('h2')\r\n",
        "val = soup.find('div', attrs = {'itemprop':'name'})\r\n",
        "print(val)"
      ],
      "outputs": [
        {
          "output_type": "stream",
          "name": "stdout",
          "text": [
            "None\n"
          ]
        }
      ],
      "metadata": {
        "id": "QVOHeIOgD_4X",
        "outputId": "948f7f53-9498-4938-b944-2841991245b6",
        "colab": {
          "base_uri": "https://localhost:8080/"
        }
      }
    }
  ]
}