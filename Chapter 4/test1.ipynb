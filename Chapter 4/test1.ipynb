{
  "nbformat": 4,
  "nbformat_minor": 0,
  "metadata": {
    "colab": {
      "name": "Welcome To Colaboratory",
      "provenance": [],
      "collapsed_sections": []
    },
    "kernelspec": {
      "display_name": "Python 3",
      "name": "python3"
    }
  },
  "cells": [
    {
      "cell_type": "code",
      "metadata": {
        "id": "LOAtWg74wGxD",
        "outputId": "5539e870-4ad5-41ee-8489-6a5d7b2605dd",
        "colab": {
          "base_uri": "https://localhost:8080/"
        }
      },
      "source": [
        "import re\n",
        "email = input()\n",
        "if re.search(r'.+\\@.+\\..{2,3}',email) == None:\n",
        "  print(\"Not Email\")"
      ],
      "execution_count": 2,
      "outputs": [
        {
          "output_type": "stream",
          "text": [
            "se@gmailcom\n",
            "Not Email\n"
          ],
          "name": "stdout"
        }
      ]
    },
    {
      "cell_type": "code",
      "metadata": {
        "id": "UixYTigszsFf",
        "outputId": "a287a3bc-33e1-45c6-b7b6-7d740be570ca",
        "colab": {
          "base_uri": "https://localhost:8080/"
        }
      },
      "source": [
        "str = '''the price of oil is 65$ for 3boshke yesterday\n",
        "the price of oil is 78$ for 3boshke today\n",
        "the price of oil is 61$ for 3boshke 9/4'''\n",
        "\n",
        "# result = re.findall(r'the price of oil is (\\d+)\\$ for (\\d+)boshke (.*)',str)\n",
        "result = re.sub(r'the price of oil is (\\d+)\\$ for (\\d+)boshke (.*)','\\g<3>,\\g<1>,\\g<2>',str)\n",
        "\n",
        "print(result)"
      ],
      "execution_count": 19,
      "outputs": [
        {
          "output_type": "stream",
          "text": [
            "yesterday,65,3\n",
            "today,78,3\n",
            "9/4,61,3\n"
          ],
          "name": "stdout"
        }
      ]
    },
    {
      "cell_type": "code",
      "metadata": {
        "id": "qDJy5GfH1Qu6",
        "outputId": "980aa402-98cc-40c9-96a8-ef14eb9c5359",
        "colab": {
          "base_uri": "https://localhost:8080/",
          "height": 36
        }
      },
      "source": [
        "str  = 'salam jadi. salam ali. Salam Sosan.'\n",
        "\n",
        "# result = re.sub(r'[sS]alam','Hi',str)\n",
        "result = re.sub(r'[sS]alam (\\w+)\\.','Hi \\g<1>',str)\n",
        "\n",
        "result"
      ],
      "execution_count": 16,
      "outputs": [
        {
          "output_type": "execute_result",
          "data": {
            "application/vnd.google.colaboratory.intrinsic+json": {
              "type": "string"
            },
            "text/plain": [
              "'Hi jadi Hi ali Hi Sosan'"
            ]
          },
          "metadata": {
            "tags": []
          },
          "execution_count": 16
        }
      ]
    },
    {
      "cell_type": "code",
      "metadata": {
        "id": "XrSohmxe4Wzf"
      },
      "source": [
        ""
      ],
      "execution_count": null,
      "outputs": []
    }
  ]
}